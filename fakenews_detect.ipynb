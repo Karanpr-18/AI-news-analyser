{
 "cells": [
  {
   "cell_type": "code",
   "execution_count": 12,
   "id": "b685976e",
   "metadata": {},
   "outputs": [],
   "source": [
    "import cuml\n",
    "import pandas as pd\n",
    "import numpy as np\n",
    "from sklearn.model_selection import train_test_split\n",
    "from sklearn.feature_extraction.text import CountVectorizer\n",
    "from cuml.naive_bayes import MultinomialNB\n",
    "from cuml.svm import SVC\n",
    "from sklearn.ensemble import RandomForestClassifier\n",
    "from sklearn.linear_model import LogisticRegression\n",
    "from sklearn.metrics import classification_report\n",
    "from sklearn.feature_extraction.text import TfidfVectorizer\n",
    "from sklearn.preprocessing import LabelEncoder\n",
    "import joblib"
   ]
  },
  {
   "cell_type": "markdown",
   "id": "dedb7e35",
   "metadata": {},
   "source": [
    "0 for fake 1 for real"
   ]
  },
  {
   "cell_type": "code",
   "execution_count": 13,
   "id": "310957ae",
   "metadata": {},
   "outputs": [
    {
     "data": {
      "text/html": [
       "<div>\n",
       "<style scoped>\n",
       "    .dataframe tbody tr th:only-of-type {\n",
       "        vertical-align: middle;\n",
       "    }\n",
       "\n",
       "    .dataframe tbody tr th {\n",
       "        vertical-align: top;\n",
       "    }\n",
       "\n",
       "    .dataframe thead th {\n",
       "        text-align: right;\n",
       "    }\n",
       "</style>\n",
       "<table border=\"1\" class=\"dataframe\">\n",
       "  <thead>\n",
       "    <tr style=\"text-align: right;\">\n",
       "      <th></th>\n",
       "      <th>text</th>\n",
       "      <th>label</th>\n",
       "    </tr>\n",
       "  </thead>\n",
       "  <tbody>\n",
       "    <tr>\n",
       "      <th>0</th>\n",
       "      <td>No comment is expected from Barack Obama Membe...</td>\n",
       "      <td>1</td>\n",
       "    </tr>\n",
       "    <tr>\n",
       "      <th>1</th>\n",
       "      <td>Did they post their votes for Hillary already?</td>\n",
       "      <td>1</td>\n",
       "    </tr>\n",
       "    <tr>\n",
       "      <th>2</th>\n",
       "      <td>Now, most of the demonstrators gathered last ...</td>\n",
       "      <td>1</td>\n",
       "    </tr>\n",
       "    <tr>\n",
       "      <th>3</th>\n",
       "      <td>A dozen politically active pastors came here f...</td>\n",
       "      <td>0</td>\n",
       "    </tr>\n",
       "    <tr>\n",
       "      <th>4</th>\n",
       "      <td>The RS-28 Sarmat missile, dubbed Satan 2, will...</td>\n",
       "      <td>1</td>\n",
       "    </tr>\n",
       "    <tr>\n",
       "      <th>...</th>\n",
       "      <td>...</td>\n",
       "      <td>...</td>\n",
       "    </tr>\n",
       "    <tr>\n",
       "      <th>72129</th>\n",
       "      <td>WASHINGTON (Reuters) - Hackers believed to be ...</td>\n",
       "      <td>0</td>\n",
       "    </tr>\n",
       "    <tr>\n",
       "      <th>72130</th>\n",
       "      <td>You know, because in fantasyland Republicans n...</td>\n",
       "      <td>1</td>\n",
       "    </tr>\n",
       "    <tr>\n",
       "      <th>72131</th>\n",
       "      <td>Migrants Refuse To Leave Train At Refugee Camp...</td>\n",
       "      <td>0</td>\n",
       "    </tr>\n",
       "    <tr>\n",
       "      <th>72132</th>\n",
       "      <td>MEXICO CITY (Reuters) - Donald Trump’s combati...</td>\n",
       "      <td>0</td>\n",
       "    </tr>\n",
       "    <tr>\n",
       "      <th>72133</th>\n",
       "      <td>Goldman Sachs Endorses Hillary Clinton For Pre...</td>\n",
       "      <td>1</td>\n",
       "    </tr>\n",
       "  </tbody>\n",
       "</table>\n",
       "<p>72095 rows × 2 columns</p>\n",
       "</div>"
      ],
      "text/plain": [
       "                                                    text  label\n",
       "0      No comment is expected from Barack Obama Membe...      1\n",
       "1         Did they post their votes for Hillary already?      1\n",
       "2       Now, most of the demonstrators gathered last ...      1\n",
       "3      A dozen politically active pastors came here f...      0\n",
       "4      The RS-28 Sarmat missile, dubbed Satan 2, will...      1\n",
       "...                                                  ...    ...\n",
       "72129  WASHINGTON (Reuters) - Hackers believed to be ...      0\n",
       "72130  You know, because in fantasyland Republicans n...      1\n",
       "72131  Migrants Refuse To Leave Train At Refugee Camp...      0\n",
       "72132  MEXICO CITY (Reuters) - Donald Trump’s combati...      0\n",
       "72133  Goldman Sachs Endorses Hillary Clinton For Pre...      1\n",
       "\n",
       "[72095 rows x 2 columns]"
      ]
     },
     "execution_count": 13,
     "metadata": {},
     "output_type": "execute_result"
    }
   ],
   "source": [
    "fakenews_data= pd.read_csv(\"faekenews_detection.csv\")\n",
    "fakenews_df=pd.DataFrame(fakenews_data)\n",
    "fakenews_df = fakenews_df.drop('title',axis=1)\n",
    "fakenews_df = fakenews_df.drop('Unnamed: 0',axis=1)\n",
    "fakenews_df.dropna(inplace=True)\n",
    "fakenews_df"
   ]
  },
  {
   "cell_type": "code",
   "execution_count": 14,
   "id": "cfe897e0",
   "metadata": {},
   "outputs": [],
   "source": [
    "X_train,X_test,y_train,y_test =  train_test_split(fakenews_df['text'],fakenews_df['label'],test_size=0.3)"
   ]
  },
  {
   "cell_type": "code",
   "execution_count": 15,
   "id": "105e6a2a",
   "metadata": {},
   "outputs": [],
   "source": [
    "cv= CountVectorizer()\n",
    "X_train_vc=cv.fit_transform(X_train)\n",
    "X_test_vc= cv.transform(X_test)"
   ]
  },
  {
   "cell_type": "code",
   "execution_count": 16,
   "id": "7157f00d",
   "metadata": {},
   "outputs": [],
   "source": [
    "X_train_vc = X_train_vc.astype('float32')\n",
    "X_test_vc = X_test_vc.astype('float32')"
   ]
  },
  {
   "cell_type": "code",
   "execution_count": 17,
   "id": "f8542b12",
   "metadata": {},
   "outputs": [
    {
     "name": "stdout",
     "output_type": "stream",
     "text": [
      "              precision    recall  f1-score   support\n",
      "\n",
      "           0       0.87      0.91      0.89     10574\n",
      "           1       0.91      0.87      0.89     11055\n",
      "\n",
      "    accuracy                           0.89     21629\n",
      "   macro avg       0.89      0.89      0.89     21629\n",
      "weighted avg       0.89      0.89      0.89     21629\n",
      "\n"
     ]
    },
    {
     "data": {
      "text/plain": [
       "0.8928753063017245"
      ]
     },
     "execution_count": 17,
     "metadata": {},
     "output_type": "execute_result"
    }
   ],
   "source": [
    "model = MultinomialNB()\n",
    "model.fit(X_train_vc,y_train)\n",
    "print(classification_report(y_test,model.predict(X_test_vc)))\n",
    "model.score(X_test_vc,y_test)"
   ]
  },
  {
   "cell_type": "code",
   "execution_count": 18,
   "id": "2a97824f",
   "metadata": {},
   "outputs": [
    {
     "name": "stdout",
     "output_type": "stream",
     "text": [
      "              precision    recall  f1-score   support\n",
      "\n",
      "           0       0.97      0.95      0.96     10574\n",
      "           1       0.95      0.97      0.96     11055\n",
      "\n",
      "    accuracy                           0.96     21629\n",
      "   macro avg       0.96      0.96      0.96     21629\n",
      "weighted avg       0.96      0.96      0.96     21629\n",
      "\n"
     ]
    },
    {
     "data": {
      "text/plain": [
       "0.9589440103564658"
      ]
     },
     "execution_count": 18,
     "metadata": {},
     "output_type": "execute_result"
    }
   ],
   "source": [
    "model = LogisticRegression(max_iter=1000)\n",
    "model.fit(X_train_vc,y_train)\n",
    "print(classification_report(y_test,model.predict(X_test_vc)))\n",
    "model.score(X_test_vc,y_test)"
   ]
  },
  {
   "cell_type": "code",
   "execution_count": 19,
   "id": "328a5439",
   "metadata": {},
   "outputs": [],
   "source": [
    "vec_save = joblib.dump(cv,\"fakenews_vectorizer.joblib\")\n",
    "model_save  = joblib.dump(model,\"fakenews_model.joblib\")"
   ]
  },
  {
   "cell_type": "code",
   "execution_count": 20,
   "id": "198fc3f5",
   "metadata": {},
   "outputs": [],
   "source": [
    "# model = RandomForestClassifier(n_jobs=-1)\n",
    "# model.fit(X_train_vc,y_train)\n",
    "# print(classification_report(y_test,model.predict(X_test_vc)))\n",
    "# model.score(X_test_vc,y_test)"
   ]
  },
  {
   "cell_type": "code",
   "execution_count": 21,
   "id": "1cde24f9",
   "metadata": {},
   "outputs": [],
   "source": [
    "# model = SVC()\n",
    "# model.fit(X_train_vc,y_train)\n",
    "# print(classification_report(y_test,model.predict(X_test_vc)))\n",
    "# model.score(X_test_vc,y_test)"
   ]
  }
 ],
 "metadata": {
  "kernelspec": {
   "display_name": "ml_env",
   "language": "python",
   "name": "python3"
  },
  "language_info": {
   "codemirror_mode": {
    "name": "ipython",
    "version": 3
   },
   "file_extension": ".py",
   "mimetype": "text/x-python",
   "name": "python",
   "nbconvert_exporter": "python",
   "pygments_lexer": "ipython3",
   "version": "3.11.13"
  }
 },
 "nbformat": 4,
 "nbformat_minor": 5
}
