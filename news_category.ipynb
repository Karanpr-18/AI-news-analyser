{
 "cells": [
  {
   "cell_type": "code",
   "execution_count": 1,
   "id": "b685976e",
   "metadata": {},
   "outputs": [],
   "source": [
    "import pandas as pd\n",
    "import numpy as np\n",
    "from sklearn.model_selection import train_test_split\n",
    "from sklearn.feature_extraction.text import CountVectorizer\n",
    "from cuml.naive_bayes import MultinomialNB\n",
    "from cuml.svm import SVC\n",
    "from sklearn.ensemble import RandomForestClassifier\n",
    "from cuml.linear_model import LogisticRegression\n",
    "from sklearn.metrics import classification_report\n",
    "from sklearn.preprocessing import LabelEncoder\n",
    "import joblib\n",
    "import spacy"
   ]
  },
  {
   "cell_type": "code",
   "execution_count": 2,
   "id": "8c00c733",
   "metadata": {},
   "outputs": [],
   "source": [
    "nlp = spacy.load(\"en_core_web_sm\")"
   ]
  },
  {
   "cell_type": "markdown",
   "id": "0f530ba7",
   "metadata": {},
   "source": [
    "creating target column of numerical category"
   ]
  },
  {
   "cell_type": "markdown",
   "id": "15041e90",
   "metadata": {},
   "source": [
    "1-World, 2-Sports, 3-Business, 4-Sci/Tech"
   ]
  },
  {
   "cell_type": "code",
   "execution_count": 3,
   "id": "0e4dbc03",
   "metadata": {},
   "outputs": [
    {
     "data": {
      "text/html": [
       "<div>\n",
       "<style scoped>\n",
       "    .dataframe tbody tr th:only-of-type {\n",
       "        vertical-align: middle;\n",
       "    }\n",
       "\n",
       "    .dataframe tbody tr th {\n",
       "        vertical-align: top;\n",
       "    }\n",
       "\n",
       "    .dataframe thead th {\n",
       "        text-align: right;\n",
       "    }\n",
       "</style>\n",
       "<table border=\"1\" class=\"dataframe\">\n",
       "  <thead>\n",
       "    <tr style=\"text-align: right;\">\n",
       "      <th></th>\n",
       "      <th>Class Index</th>\n",
       "      <th>Description</th>\n",
       "    </tr>\n",
       "  </thead>\n",
       "  <tbody>\n",
       "    <tr>\n",
       "      <th>0</th>\n",
       "      <td>3</td>\n",
       "      <td>Unions representing workers at Turner   Newall...</td>\n",
       "    </tr>\n",
       "    <tr>\n",
       "      <th>1</th>\n",
       "      <td>4</td>\n",
       "      <td>SPACE.com - TORONTO, Canada -- A second\\team o...</td>\n",
       "    </tr>\n",
       "    <tr>\n",
       "      <th>2</th>\n",
       "      <td>4</td>\n",
       "      <td>AP - A company founded by a chemistry research...</td>\n",
       "    </tr>\n",
       "    <tr>\n",
       "      <th>3</th>\n",
       "      <td>4</td>\n",
       "      <td>AP - It's barely dawn when Mike Fitzpatrick st...</td>\n",
       "    </tr>\n",
       "    <tr>\n",
       "      <th>4</th>\n",
       "      <td>4</td>\n",
       "      <td>AP - Southern California's smog-fighting agenc...</td>\n",
       "    </tr>\n",
       "    <tr>\n",
       "      <th>...</th>\n",
       "      <td>...</td>\n",
       "      <td>...</td>\n",
       "    </tr>\n",
       "    <tr>\n",
       "      <th>127595</th>\n",
       "      <td>1</td>\n",
       "      <td>KARACHI (Reuters) - Pakistani President Perve...</td>\n",
       "    </tr>\n",
       "    <tr>\n",
       "      <th>127596</th>\n",
       "      <td>2</td>\n",
       "      <td>Red Sox general manager Theo Epstein acknowled...</td>\n",
       "    </tr>\n",
       "    <tr>\n",
       "      <th>127597</th>\n",
       "      <td>2</td>\n",
       "      <td>The Miami Dolphins will put their courtship of...</td>\n",
       "    </tr>\n",
       "    <tr>\n",
       "      <th>127598</th>\n",
       "      <td>2</td>\n",
       "      <td>PITTSBURGH at NY GIANTS Time: 1:30 p.m. Line: ...</td>\n",
       "    </tr>\n",
       "    <tr>\n",
       "      <th>127599</th>\n",
       "      <td>2</td>\n",
       "      <td>INDIANAPOLIS -- All-Star Vince Carter was trad...</td>\n",
       "    </tr>\n",
       "  </tbody>\n",
       "</table>\n",
       "<p>127600 rows × 2 columns</p>\n",
       "</div>"
      ],
      "text/plain": [
       "        Class Index                                        Description\n",
       "0                 3  Unions representing workers at Turner   Newall...\n",
       "1                 4  SPACE.com - TORONTO, Canada -- A second\\team o...\n",
       "2                 4  AP - A company founded by a chemistry research...\n",
       "3                 4  AP - It's barely dawn when Mike Fitzpatrick st...\n",
       "4                 4  AP - Southern California's smog-fighting agenc...\n",
       "...             ...                                                ...\n",
       "127595            1   KARACHI (Reuters) - Pakistani President Perve...\n",
       "127596            2  Red Sox general manager Theo Epstein acknowled...\n",
       "127597            2  The Miami Dolphins will put their courtship of...\n",
       "127598            2  PITTSBURGH at NY GIANTS Time: 1:30 p.m. Line: ...\n",
       "127599            2  INDIANAPOLIS -- All-Star Vince Carter was trad...\n",
       "\n",
       "[127600 rows x 2 columns]"
      ]
     },
     "execution_count": 3,
     "metadata": {},
     "output_type": "execute_result"
    }
   ],
   "source": [
    "newscategory_test = pd.read_csv('news_cat_data_2.csv')\n",
    "newscategory_train = pd.read_csv('news_cat_data_1.csv')\n",
    "newscategory_df = pd.concat([newscategory_test, newscategory_train], ignore_index=True)\n",
    "newscategory_df = pd.DataFrame(newscategory_df)\n",
    "newscategory_df = newscategory_df.drop('Title', axis=1)\n",
    "newscategory_df.dropna(inplace=True)\n",
    "newscategory_df"
   ]
  },
  {
   "cell_type": "code",
   "execution_count": 4,
   "id": "3ac16d32",
   "metadata": {},
   "outputs": [],
   "source": [
    "X_train,X_test,y_train,y_test = train_test_split(newscategory_df[\"Description\"],newscategory_df[\"Class Index\"],test_size=0.3)"
   ]
  },
  {
   "cell_type": "code",
   "execution_count": 5,
   "id": "48e22624",
   "metadata": {},
   "outputs": [],
   "source": [
    "vec= CountVectorizer()\n",
    "X_train_vec = vec.fit_transform(X_train)\n",
    "X_test_vec = vec.transform(X_test)"
   ]
  },
  {
   "cell_type": "code",
   "execution_count": 6,
   "id": "3090bb6e",
   "metadata": {},
   "outputs": [],
   "source": [
    "X_train_vec = X_train_vec.astype('float32')\n",
    "X_test_vec = X_test_vec.astype('float32')"
   ]
  },
  {
   "cell_type": "code",
   "execution_count": 7,
   "id": "0d3d159c",
   "metadata": {},
   "outputs": [
    {
     "name": "stdout",
     "output_type": "stream",
     "text": [
      "              precision    recall  f1-score   support\n",
      "\n",
      "           1       0.90      0.89      0.90      9644\n",
      "           2       0.94      0.97      0.96      9511\n",
      "           3       0.87      0.85      0.86      9627\n",
      "           4       0.86      0.87      0.86      9498\n",
      "\n",
      "    accuracy                           0.89     38280\n",
      "   macro avg       0.89      0.89      0.89     38280\n",
      "weighted avg       0.89      0.89      0.89     38280\n",
      "\n"
     ]
    },
    {
     "data": {
      "text/plain": [
       "0.894723092998955"
      ]
     },
     "execution_count": 7,
     "metadata": {},
     "output_type": "execute_result"
    }
   ],
   "source": [
    "model= MultinomialNB()\n",
    "model.fit(X_train_vec,y_train)\n",
    "print(classification_report(y_test, model.predict(X_test_vec)))\n",
    "model.score(X_test_vec, y_test)"
   ]
  },
  {
   "cell_type": "code",
   "execution_count": 8,
   "id": "c2c15532",
   "metadata": {},
   "outputs": [
    {
     "name": "stdout",
     "output_type": "stream",
     "text": [
      "              precision    recall  f1-score   support\n",
      "\n",
      "           1       0.91      0.88      0.90      9644\n",
      "           2       0.95      0.97      0.96      9511\n",
      "           3       0.87      0.86      0.87      9627\n",
      "           4       0.86      0.88      0.87      9498\n",
      "\n",
      "    accuracy                           0.90     38280\n",
      "   macro avg       0.90      0.90      0.90     38280\n",
      "weighted avg       0.90      0.90      0.90     38280\n",
      "\n"
     ]
    },
    {
     "data": {
      "text/plain": [
       "0.8973354231974922"
      ]
     },
     "execution_count": 8,
     "metadata": {},
     "output_type": "execute_result"
    }
   ],
   "source": [
    "model= LogisticRegression()\n",
    "model.fit(X_train_vec,y_train)\n",
    "print(classification_report(y_test, model.predict(X_test_vec)))\n",
    "model.score(X_test_vec, y_test)"
   ]
  },
  {
   "cell_type": "code",
   "execution_count": 9,
   "id": "20d88d55",
   "metadata": {},
   "outputs": [],
   "source": [
    "model_save=joblib.dump(model,'news_category_model.joblib')\n",
    "vector_save = joblib.dump(vec, 'news_category_vector.joblib')"
   ]
  },
  {
   "cell_type": "code",
   "execution_count": 10,
   "id": "799db69c",
   "metadata": {},
   "outputs": [],
   "source": [
    "# model= RandomForestClassifier(n_jobs=-1)\n",
    "# model.fit(X_train_vec,y_train)\n",
    "# print(classification_report(y_test, model.predict(X_test_vec)))\n",
    "# model.score(X_test_vec, y_test)"
   ]
  },
  {
   "cell_type": "code",
   "execution_count": 11,
   "id": "f4ff1342",
   "metadata": {},
   "outputs": [],
   "source": [
    "# model= SVC()\n",
    "# model.fit(X_train_vec,y_train)\n",
    "# print(classification_report(y_test, model.predict(X_test_vec)))\n",
    "# model.score(X_test_vec, y_test)"
   ]
  }
 ],
 "metadata": {
  "kernelspec": {
   "display_name": "ml_env",
   "language": "python",
   "name": "python3"
  },
  "language_info": {
   "codemirror_mode": {
    "name": "ipython",
    "version": 3
   },
   "file_extension": ".py",
   "mimetype": "text/x-python",
   "name": "python",
   "nbconvert_exporter": "python",
   "pygments_lexer": "ipython3",
   "version": "3.11.13"
  }
 },
 "nbformat": 4,
 "nbformat_minor": 5
}
