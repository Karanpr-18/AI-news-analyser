{
 "cells": [
  {
   "cell_type": "code",
   "execution_count": 1,
   "id": "b685976e",
   "metadata": {},
   "outputs": [],
   "source": [
    "import pandas as pd\n",
    "import numpy as np\n",
    "from sklearn.model_selection import train_test_split\n",
    "from sklearn.feature_extraction.text import CountVectorizer\n",
    "from cuml.naive_bayes import MultinomialNB\n",
    "from cuml.svm import SVC\n",
    "from sklearn.ensemble import RandomForestClassifier\n",
    "from sklearn.linear_model import LogisticRegression\n",
    "from sklearn.neighbors import KNeighborsClassifier\n",
    "from sklearn.metrics import classification_report\n",
    "import joblib"
   ]
  },
  {
   "cell_type": "markdown",
   "id": "3bec174a",
   "metadata": {},
   "source": [
    "1 for hate 0 for not hate"
   ]
  },
  {
   "cell_type": "code",
   "execution_count": 2,
   "id": "6d5869d1",
   "metadata": {},
   "outputs": [
    {
     "data": {
      "text/html": [
       "<div>\n",
       "<style scoped>\n",
       "    .dataframe tbody tr th:only-of-type {\n",
       "        vertical-align: middle;\n",
       "    }\n",
       "\n",
       "    .dataframe tbody tr th {\n",
       "        vertical-align: top;\n",
       "    }\n",
       "\n",
       "    .dataframe thead th {\n",
       "        text-align: right;\n",
       "    }\n",
       "</style>\n",
       "<table border=\"1\" class=\"dataframe\">\n",
       "  <thead>\n",
       "    <tr style=\"text-align: right;\">\n",
       "      <th></th>\n",
       "      <th>Content</th>\n",
       "      <th>Label</th>\n",
       "    </tr>\n",
       "  </thead>\n",
       "  <tbody>\n",
       "    <tr>\n",
       "      <th>0</th>\n",
       "      <td>denial of normal the con be asked to comment o...</td>\n",
       "      <td>1</td>\n",
       "    </tr>\n",
       "    <tr>\n",
       "      <th>1</th>\n",
       "      <td>just by being able to tweet this insufferable ...</td>\n",
       "      <td>1</td>\n",
       "    </tr>\n",
       "    <tr>\n",
       "      <th>2</th>\n",
       "      <td>that is retarded you too cute to be single tha...</td>\n",
       "      <td>1</td>\n",
       "    </tr>\n",
       "    <tr>\n",
       "      <th>3</th>\n",
       "      <td>thought of a real badass mongol style declarat...</td>\n",
       "      <td>1</td>\n",
       "    </tr>\n",
       "    <tr>\n",
       "      <th>4</th>\n",
       "      <td>afro american basho</td>\n",
       "      <td>1</td>\n",
       "    </tr>\n",
       "    <tr>\n",
       "      <th>...</th>\n",
       "      <td>...</td>\n",
       "      <td>...</td>\n",
       "    </tr>\n",
       "    <tr>\n",
       "      <th>726114</th>\n",
       "      <td>i mute this telecasting and played kanye west ...</td>\n",
       "      <td>1</td>\n",
       "    </tr>\n",
       "    <tr>\n",
       "      <th>726115</th>\n",
       "      <td>but hell yeah he s not a bachelor but looooooo...</td>\n",
       "      <td>1</td>\n",
       "    </tr>\n",
       "    <tr>\n",
       "      <th>726116</th>\n",
       "      <td>great video musician but s not my musician lol...</td>\n",
       "      <td>1</td>\n",
       "    </tr>\n",
       "    <tr>\n",
       "      <th>726117</th>\n",
       "      <td>not great pop video yeah he s not a pedophile ...</td>\n",
       "      <td>1</td>\n",
       "    </tr>\n",
       "    <tr>\n",
       "      <th>726118</th>\n",
       "      <td>great video yeah he s non a paedophile lolllll...</td>\n",
       "      <td>1</td>\n",
       "    </tr>\n",
       "  </tbody>\n",
       "</table>\n",
       "<p>726119 rows × 2 columns</p>\n",
       "</div>"
      ],
      "text/plain": [
       "                                                  Content  Label\n",
       "0       denial of normal the con be asked to comment o...      1\n",
       "1       just by being able to tweet this insufferable ...      1\n",
       "2       that is retarded you too cute to be single tha...      1\n",
       "3       thought of a real badass mongol style declarat...      1\n",
       "4                                     afro american basho      1\n",
       "...                                                   ...    ...\n",
       "726114  i mute this telecasting and played kanye west ...      1\n",
       "726115  but hell yeah he s not a bachelor but looooooo...      1\n",
       "726116  great video musician but s not my musician lol...      1\n",
       "726117  not great pop video yeah he s not a pedophile ...      1\n",
       "726118  great video yeah he s non a paedophile lolllll...      1\n",
       "\n",
       "[726119 rows x 2 columns]"
      ]
     },
     "execution_count": 2,
     "metadata": {},
     "output_type": "execute_result"
    }
   ],
   "source": [
    "hate_speach_data= pd.read_csv(\"HateSpeech_Dataset.csv\")\n",
    "hate_speach_df=pd.DataFrame(hate_speach_data)\n",
    "hate_speach_df.dropna(inplace=True)\n",
    "hate_speach_df"
   ]
  },
  {
   "cell_type": "code",
   "execution_count": 3,
   "id": "cfe897e0",
   "metadata": {},
   "outputs": [],
   "source": [
    "X_train,X_test,y_train,y_test = train_test_split(hate_speach_df['Content'],hate_speach_df['Label'],test_size=0.3)"
   ]
  },
  {
   "cell_type": "code",
   "execution_count": 4,
   "id": "9706b38c",
   "metadata": {},
   "outputs": [],
   "source": [
    "vec= CountVectorizer()\n",
    "X_train_vec = vec.fit_transform(X_train)\n",
    "X_test_vec = vec.transform(X_test)"
   ]
  },
  {
   "cell_type": "code",
   "execution_count": 5,
   "id": "d225b042",
   "metadata": {},
   "outputs": [],
   "source": [
    "X_train_vec = X_train_vec.astype('float32')\n",
    "X_test_vec = X_test_vec.astype('float32')"
   ]
  },
  {
   "cell_type": "code",
   "execution_count": 6,
   "id": "1c467973",
   "metadata": {},
   "outputs": [
    {
     "name": "stdout",
     "output_type": "stream",
     "text": [
      "              precision    recall  f1-score   support\n",
      "\n",
      "           0       0.88      0.68      0.77    108556\n",
      "           1       0.74      0.91      0.82    109280\n",
      "\n",
      "    accuracy                           0.80    217836\n",
      "   macro avg       0.81      0.80      0.80    217836\n",
      "weighted avg       0.81      0.80      0.80    217836\n",
      "\n"
     ]
    },
    {
     "data": {
      "text/plain": [
       "0.7978616941185112"
      ]
     },
     "execution_count": 6,
     "metadata": {},
     "output_type": "execute_result"
    }
   ],
   "source": [
    "model=MultinomialNB()\n",
    "model.fit(X_train_vec,y_train)\n",
    "print(classification_report(y_test,model.predict(X_test_vec)))\n",
    "model.score(X_test_vec,y_test)"
   ]
  },
  {
   "cell_type": "code",
   "execution_count": 11,
   "id": "aabdd320",
   "metadata": {},
   "outputs": [
    {
     "name": "stdout",
     "output_type": "stream",
     "text": [
      "              precision    recall  f1-score   support\n",
      "\n",
      "           0       0.85      0.84      0.85    108556\n",
      "           1       0.84      0.86      0.85    109280\n",
      "\n",
      "    accuracy                           0.85    217836\n",
      "   macro avg       0.85      0.85      0.85    217836\n",
      "weighted avg       0.85      0.85      0.85    217836\n",
      "\n"
     ]
    },
    {
     "data": {
      "text/plain": [
       "0.8476147193301383"
      ]
     },
     "execution_count": 11,
     "metadata": {},
     "output_type": "execute_result"
    }
   ],
   "source": [
    "model=LogisticRegression(max_iter=1000)\n",
    "model.fit(X_train_vec,y_train)\n",
    "print(classification_report(y_test,model.predict(X_test_vec)))\n",
    "model.score(X_test_vec,y_test)"
   ]
  },
  {
   "cell_type": "code",
   "execution_count": 12,
   "id": "5105795f",
   "metadata": {},
   "outputs": [],
   "source": [
    "vec_save = joblib.dump(vec, 'hatespeach_vectorizer.joblib')\n",
    "model_save = joblib.dump(model, 'hatespeach_model.joblib')"
   ]
  },
  {
   "cell_type": "code",
   "execution_count": 9,
   "id": "eab60a53",
   "metadata": {},
   "outputs": [],
   "source": [
    "# model=RandomForestClassifier(n_jobs=-1)\n",
    "# model.fit(X_train_vec,y_train)\n",
    "# print(classification_report(y_test,model.predict(X_test_vec)))\n",
    "# model.score(X_test_vec,y_test)"
   ]
  },
  {
   "cell_type": "code",
   "execution_count": 10,
   "id": "52b66379",
   "metadata": {},
   "outputs": [],
   "source": [
    "# model=SVC()\n",
    "# model.fit(X_train_vec,y_train)\n",
    "# print(classification_report(y_test,model.predict(X_test_vec)))\n",
    "# model.score(X_test_vec,y_test)"
   ]
  }
 ],
 "metadata": {
  "kernelspec": {
   "display_name": "ml_env",
   "language": "python",
   "name": "python3"
  },
  "language_info": {
   "codemirror_mode": {
    "name": "ipython",
    "version": 3
   },
   "file_extension": ".py",
   "mimetype": "text/x-python",
   "name": "python",
   "nbconvert_exporter": "python",
   "pygments_lexer": "ipython3",
   "version": "3.11.13"
  }
 },
 "nbformat": 4,
 "nbformat_minor": 5
}
